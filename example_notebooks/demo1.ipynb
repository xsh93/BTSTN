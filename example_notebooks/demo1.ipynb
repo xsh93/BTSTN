{
 "cells": [
  {
   "cell_type": "code",
   "execution_count": 1,
   "outputs": [],
   "source": [
    "import numpy as np\n",
    "import pandas as pd\n",
    "import torch\n",
    "from pypots.utils.metrics.error import calc_mae, calc_rmse, calc_mre\n",
    "\n",
    "import sys\n",
    "sys.path.append(\"../scripts\")\n",
    "from utils import DataReader, SynDataset\n",
    "from train import BTSTN"
   ],
   "metadata": {
    "collapsed": false,
    "ExecuteTime": {
     "end_time": "2024-05-20T06:15:29.041113Z",
     "start_time": "2024-05-20T06:15:27.386780Z"
    }
   }
  },
  {
   "cell_type": "code",
   "execution_count": 2,
   "outputs": [],
   "source": [
    "########################################\n",
    "# Data\n",
    "########################################\n",
    "train_file = \"../data/simulated_p53_mdm2/simulated_p53_mdm2_sustained.csv\"\n",
    "train_data = pd.read_csv(train_file)\n",
    "train_data = train_data.iloc[:2000, :]\n",
    "train_dr = DataReader(data=train_data, scaler=\"MinMax\", dropna=False, unit=0.1)"
   ],
   "metadata": {
    "collapsed": false,
    "ExecuteTime": {
     "end_time": "2024-05-20T06:15:34.066291Z",
     "start_time": "2024-05-20T06:15:34.029024Z"
    }
   }
  },
  {
   "cell_type": "code",
   "execution_count": 3,
   "outputs": [],
   "source": [
    "########################################\n",
    "# Parameters\n",
    "########################################\n",
    "n_features = 2\n",
    "n_dims = 16\n",
    "g_inner = 32\n",
    "g_layers = 2\n",
    "dropout = 0.1\n",
    "max_gap = 10"
   ],
   "metadata": {
    "collapsed": false,
    "ExecuteTime": {
     "end_time": "2024-05-20T06:15:35.210309Z",
     "start_time": "2024-05-20T06:15:35.184675Z"
    }
   }
  },
  {
   "cell_type": "code",
   "execution_count": 4,
   "outputs": [],
   "source": [
    "########################################\n",
    "# Initialize the model\n",
    "########################################\n",
    "tcnits = BTSTN(\n",
    "    n_features=n_features,\n",
    "    n_dims=n_dims,\n",
    "    g_inner=g_inner,\n",
    "    g_layers=g_layers,\n",
    "    d_inner=None,\n",
    "    d_layers=None,\n",
    "    dropout=dropout,\n",
    "    d_dropout=0,\n",
    "    activation={\"fc_name\":\"tanh\"},\n",
    "    max_gap=max_gap,\n",
    "    batch_size=128,\n",
    "    epoch=1000,\n",
    "    patience=30,\n",
    "    learning_rate=0.01,\n",
    "    threshold=0,\n",
    "    gpu_id=-1,\n",
    "    num_workers=0,\n",
    "    pin_memory=False,\n",
    "    saving_path=None,\n",
    "    saving_prefix=None\n",
    ")"
   ],
   "metadata": {
    "collapsed": false,
    "ExecuteTime": {
     "end_time": "2024-05-20T06:15:38.131102Z",
     "start_time": "2024-05-20T06:15:38.119789Z"
    }
   }
  },
  {
   "cell_type": "code",
   "execution_count": null,
   "outputs": [],
   "source": [
    "print(\"Sustained dataset\")\n",
    "for n in range(3):\n",
    "    ########################################\n",
    "    # Train\n",
    "    ########################################\n",
    "    train_loss = tcnits.fit(data=train_dr)\n",
    "\n",
    "    ########################################\n",
    "    # Reconstruction\n",
    "    ########################################\n",
    "    device = torch.device(\"cpu\")\n",
    "    inverse = True\n",
    "    f_module = tcnits.model[\"F\"].to(device)\n",
    "    d_module = tcnits.model[\"D\"].to(device)\n",
    "    unit = torch.FloatTensor(train_dr.unit_mx)\n",
    "    unit = unit.to(device)\n",
    "    fdata = f_module(unit)\n",
    "    output = d_module(fdata)\n",
    "    output = output.detach().to(\"cpu\").numpy()\n",
    "    if inverse and train_dr.scaler is not None:\n",
    "        output = train_dr.scaler.inverse_transform(output)\n",
    "\n",
    "    ########################################\n",
    "    # Evaluation of Missing pattern\n",
    "    ########################################\n",
    "    miss_mask_00 = np.ones_like(output)\n",
    "    miss_mask_01 = miss_mask_00.copy()\n",
    "    miss_mask_01[:, 0] = 0\n",
    "    miss_mask_02 = miss_mask_00.copy()\n",
    "    miss_mask_02[:, 1] = 0\n",
    "    true = np.array(train_dr.dataframe)[:, 2:]\n",
    "\n",
    "    mae_00 = calc_mae(output, true, miss_mask_00)\n",
    "    rmse_00 = calc_rmse(output, true, miss_mask_00)\n",
    "    mre_00 = calc_mre(output, true, miss_mask_00)\n",
    "\n",
    "    mae_01 = calc_mae(output, true, miss_mask_01)\n",
    "    rmse_01 = calc_rmse(output, true, miss_mask_01)\n",
    "    mre_01 = calc_mre(output, true, miss_mask_01)\n",
    "\n",
    "    mae_02 = calc_mae(output, true, miss_mask_02)\n",
    "    rmse_02 = calc_rmse(output, true, miss_mask_02)\n",
    "    mre_02 = calc_mre(output, true, miss_mask_02)\n",
    "\n",
    "    print(\"\\nReplicate: {}\".format(n))\n",
    "    print(\"MAE:\", mae_00, \"MAE_Mdm2:\", mae_01, \"MAE_P53:\", mae_02)\n",
    "    print(\"RMSE:\", rmse_00, \"RMSE_Mdm2:\", rmse_01, \"RMSE_P53:\", rmse_02)\n",
    "    print(\"MRE:\", mre_00, \"MRE_Mdm2:\", mre_01, \"MRE_P53:\", mre_02)"
   ],
   "metadata": {
    "collapsed": false
   }
  }
 ],
 "metadata": {
  "kernelspec": {
   "display_name": "Python 3",
   "language": "python",
   "name": "python3"
  },
  "language_info": {
   "codemirror_mode": {
    "name": "ipython",
    "version": 2
   },
   "file_extension": ".py",
   "mimetype": "text/x-python",
   "name": "python",
   "nbconvert_exporter": "python",
   "pygments_lexer": "ipython2",
   "version": "2.7.6"
  }
 },
 "nbformat": 4,
 "nbformat_minor": 0
}
